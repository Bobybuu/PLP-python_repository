{
 "cells": [
  {
   "cell_type": "markdown",
   "id": "13245bef",
   "metadata": {},
   "source": [
    "# 🦠 COVID-19 Global Data Tracker\n",
    "\n",
    "This notebook analyzes the global COVID-19 pandemic using real-world data from [Our World in Data](https://ourworldindata.org/coronavirus).\n",
    "\n",
    "We will explore trends in infections, deaths, and vaccinations across multiple countries and time periods using pandas, matplotlib, and seaborn."
   ]
  },
  {
   "cell_type": "code",
   "execution_count": null,
   "id": "136dc5f5",
   "metadata": {},
   "outputs": [],
   "source": [
    "#  Step 1: Import Libraries\n",
    "import pandas as pd\n",
    "import matplotlib.pyplot as plt\n",
    "import seaborn as sns\n",
    "\n",
    "plt.style.use('seaborn-vibrant')"
   ]
  },
  {
   "cell_type": "code",
   "execution_count": null,
   "id": "9dfbf68e",
   "metadata": {},
   "outputs": [],
   "source": [
    "#  Step 2: Load the Dataset\n",
    "data_path = 'owid-covid-data.csv'  # Ensure this file is in the working directory\n",
    "\n",
    "try:\n",
    "    df = pd.read_csv(data_path)\n",
    "    print(\"Dataset loaded successfully!\")\n",
    "except FileNotFoundError:\n",
    "    print(\" File not found. Please download 'owid-covid-data.csv' from Our World in Data.\")"
   ]
  },
  {
   "cell_type": "code",
   "execution_count": null,
   "id": "ec335bee",
   "metadata": {},
   "outputs": [],
   "source": [
    "# 🔍 Step 3: Explore the Dataset\n",
    "print(\"\\nColumns:\", df.columns.tolist())\n",
    "df.head()"
   ]
  },
  {
   "cell_type": "code",
   "execution_count": null,
   "id": "66c40a34",
   "metadata": {},
   "outputs": [],
   "source": [
    "# 🔧 Step 4: Clean the Data\n",
    "df['date'] = pd.to_datetime(df['date'])\n",
    "countries = ['Kenya', 'India', 'USA']\n",
    "df_filtered = df[df['location'].isin(countries)].copy()\n",
    "df_filtered = df_filtered[['location', 'date', 'total_cases', 'new_cases', 'total_deaths', 'new_deaths', 'total_vaccinations']]\n",
    "df_filtered.fillna(0, inplace=True)\n",
    "df_filtered.head()"
   ]
  },
  {
   "cell_type": "markdown",
   "id": "49014fb0",
   "metadata": {},
   "source": [
    "## 📈 Total COVID-19 Cases Over Time\n",
    "We will visualize how the number of total cases has changed over time for Kenya, India, and the USA."
   ]
  },
  {
   "cell_type": "code",
   "execution_count": null,
   "id": "fda635d6",
   "metadata": {},
   "outputs": [],
   "source": [
    "plt.figure(figsize=(10,6))\n",
    "for country in countries:\n",
    "    subset = df_filtered[df_filtered['location'] == country]\n",
    "    plt.plot(subset['date'], subset['total_cases'], label=country)\n",
    "\n",
    "plt.title(\"Total COVID-19 Cases Over Time\")\n",
    "plt.xlabel(\"Date\")\n",
    "plt.ylabel(\"Total Cases\")\n",
    "plt.legend()\n",
    "plt.tight_layout()\n",
    "plt.savefig(\"total_cases_over_time.png\")\n",
    "plt.show()"
   ]
  },
  {
   "cell_type": "markdown",
   "id": "7778baae",
   "metadata": {},
   "source": [
    "## 📉 Total Deaths Over Time\n",
    "This chart shows how total COVID-19 deaths accumulated in each country."
   ]
  },
  {
   "cell_type": "code",
   "execution_count": null,
   "id": "20e72a82",
   "metadata": {},
   "outputs": [],
   "source": [
    "plt.figure(figsize=(10,6))\n",
    "for country in countries:\n",
    "    subset = df_filtered[df_filtered['location'] == country]\n",
    "    plt.plot(subset['date'], subset['total_deaths'], label=country)\n",
    "\n",
    "plt.title(\"Total COVID-19 Deaths Over Time\")\n",
    "plt.xlabel(\"Date\")\n",
    "plt.ylabel(\"Total Deaths\")\n",
    "plt.legend()\n",
    "plt.tight_layout()\n",
    "plt.savefig(\"total_deaths_over_time.png\")\n",
    "plt.show()"
   ]
  },
  {
   "cell_type": "markdown",
   "id": "d8be855c",
   "metadata": {},
   "source": [
    "## 💉 Vaccination Progress Over Time\n",
    "We examine the cumulative vaccination progress for each country."
   ]
  },
  {
   "cell_type": "code",
   "execution_count": null,
   "id": "2f008b37",
   "metadata": {},
   "outputs": [],
   "source": [
    "plt.figure(figsize=(10,6))\n",
    "for country in countries:\n",
    "    subset = df_filtered[df_filtered['location'] == country]\n",
    "    plt.plot(subset['date'], subset['total_vaccinations'], label=country)\n",
    "\n",
    "plt.title(\"Vaccination Progress Over Time\")\n",
    "plt.xlabel(\"Date\")\n",
    "plt.ylabel(\"Total Vaccinations\")\n",
    "plt.legend()\n",
    "plt.tight_layout()\n",
    "plt.savefig(\"vaccination_progress_over_time.png\")\n",
    "plt.show()"
   ]
  },
  {
   "cell_type": "markdown",
   "id": "5eb056a2",
   "metadata": {},
   "source": [
    "## 📊 Daily New Cases in Kenya\n",
    "This bar chart shows the day-to-day new COVID-19 cases in Kenya."
   ]
  },
  {
   "cell_type": "code",
   "execution_count": null,
   "id": "fb022cba",
   "metadata": {},
   "outputs": [],
   "source": [
    "kenya_data = df_filtered[df_filtered['location'] == 'Kenya']\n",
    "plt.figure(figsize=(10,6))\n",
    "plt.bar(kenya_data['date'], kenya_data['new_cases'], color='orange')\n",
    "plt.title(\"Daily New COVID-19 Cases in Kenya\")\n",
    "plt.xlabel(\"Date\")\n",
    "plt.ylabel(\"New Cases\")\n",
    "plt.tight_layout()\n",
    "plt.savefig(\"daily_new_cases_kenya.png\")\n",
    "plt.show()"
   ]
  },
  {
   "cell_type": "markdown",
   "id": "c5276116",
   "metadata": {},
   "source": [
    "## ⚰️ Death Rate Trend\n",
    "We compute the death rate as `total_deaths / total_cases` for each country."
   ]
  },
  {
   "cell_type": "code",
   "execution_count": null,
   "id": "f4d9426d",
   "metadata": {},
   "outputs": [],
   "source": [
    "df_filtered['death_rate'] = df_filtered['total_deaths'] / df_filtered['total_cases']\n",
    "\n",
    "plt.figure(figsize=(10,6))\n",
    "for country in countries:\n",
    "    subset = df_filtered[df_filtered['location'] == country]\n",
    "    plt.plot(subset['date'], subset['death_rate'], label=country)\n",
    "\n",
    "plt.title(\"COVID-19 Death Rate Over Time\")\n",
    "plt.xlabel(\"Date\")\n",
    "plt.ylabel(\"Death Rate\")\n",
    "plt.legend()\n",
    "plt.tight_layout()\n",
    "plt.savefig(\"death_rate_trend.png\")\n",
    "plt.show()"
   ]
  },
  {
   "cell_type": "markdown",
   "id": "fc5e09fe",
   "metadata": {},
   "source": [
    "## 📝 Key Insights\n",
    "- The USA had the highest number of total cases and deaths.\n",
    "- India experienced steep increases in both cases and vaccinations.\n",
    "- Kenya's trend is relatively moderate but still significant.\n",
    "- The death rate has varied by country and time, suggesting differences in healthcare access, variants, and vaccination rates."
   ]
  }
 ],
 "metadata": {
  "language_info": {
   "name": "python"
  }
 },
 "nbformat": 4,
 "nbformat_minor": 5
}
